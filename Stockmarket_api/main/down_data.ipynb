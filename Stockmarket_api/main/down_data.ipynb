{
 "cells": [
  {
   "cell_type": "code",
   "execution_count": 47,
   "metadata": {},
   "outputs": [
    {
     "name": "stdout",
     "output_type": "stream",
     "text": [
      "         Date       Open       High        Low      Close  Adj Close  \\\n",
      "0  2020-11-30  88.718498  92.360001  88.468498  91.399498  91.399498   \n",
      "1  2020-12-07  90.949997  91.713501  87.015999  89.088501  89.088501   \n",
      "2  2020-12-14  88.750000  89.869499  86.011002  86.550499  86.550499   \n",
      "3  2020-12-21  85.675499  87.399498  84.949997  86.942497  86.942497   \n",
      "4  2020-12-28  87.581749  89.622002  86.279999  87.594002  87.594002   \n",
      "\n",
      "      Volume ticker  \n",
      "0  111288000   GOOG  \n",
      "1  130166000   GOOG  \n",
      "2  204742000   GOOG  \n",
      "3   82914000   GOOG  \n",
      "4  100208000   GOOG  \n"
     ]
    }
   ],
   "source": [
    "import time\n",
    "import datetime\n",
    "from datetime import datetime\n",
    "import pandas as pd\n",
    "ticker=\"GOOG\"\n",
    "start = int(time.mktime(datetime(2020,12,1,23,59).timetuple()))\n",
    "now=int(time.time())\n",
    "interval = \"1wk\"\n",
    "quary_string= f\"https://query1.finance.yahoo.com/v7/finance/download/{ticker}?period1={start}&period2={now}&interval={interval}&events=history&includeAdjustedClose=true\"\n",
    "table=pd.read_csv(quary_string)\n",
    "table[\"ticker\"]=ticker\n",
    "table.sort_values(by=\"Date\",inplace=True)\n",
    "print(table.head())"
   ]
  },
  {
   "cell_type": "code",
   "execution_count": 78,
   "metadata": {},
   "outputs": [],
   "source": [
    "import mysql.connector\n",
    "con = mysql.connector.connect(\n",
    "    host = \"localhost\",\n",
    "    user=\"root\",\n",
    "    passwd=\"tobias\",\n",
    "    database=\"sql_inventory\"\n",
    ")\n",
    "mycursor = con.cursor()\n",
    "\n",
    "mycursor.execute(\"CREATE DATABASE stocks\")"
   ]
  },
  {
   "cell_type": "code",
   "execution_count": 85,
   "metadata": {},
   "outputs": [
    {
     "name": "stderr",
     "output_type": "stream",
     "text": [
      "C:\\Users\\tobia\\AppData\\Local\\Temp\\ipykernel_23620\\2889306022.py:4: UserWarning: The provided table name 'SData' is not found exactly as such in the database after writing the table, possibly due to case sensitivity issues. Consider using lower case table names.\n",
      "  table.to_sql('SData', con = engine, if_exists = 'append',index = False, chunksize = 1000)\n"
     ]
    },
    {
     "data": {
      "text/plain": [
       "119"
      ]
     },
     "execution_count": 85,
     "metadata": {},
     "output_type": "execute_result"
    }
   ],
   "source": [
    "from sqlalchemy import create_engine\n",
    "import pymysql\n",
    "engine = create_engine(\"mysql+pymysql://\" + \"root\" + \":\" + \"tobias\" + \"@\" + \"localhost\" + \"/\" + \"stocks\")\n",
    "table.to_sql('SData', con = engine, if_exists = 'append',index = False, chunksize = 1000)\n",
    "\n"
   ]
  },
  {
   "cell_type": "code",
   "execution_count": 58,
   "metadata": {},
   "outputs": [
    {
     "data": {
      "text/plain": [
       "<mysql.connector.connection_cext.CMySQLConnection at 0x266073a7df0>"
      ]
     },
     "execution_count": 58,
     "metadata": {},
     "output_type": "execute_result"
    }
   ],
   "source": [
    "con"
   ]
  },
  {
   "cell_type": "code",
   "execution_count": 40,
   "metadata": {},
   "outputs": [
    {
     "data": {
      "text/html": [
       "<div>\n",
       "<style scoped>\n",
       "    .dataframe tbody tr th:only-of-type {\n",
       "        vertical-align: middle;\n",
       "    }\n",
       "\n",
       "    .dataframe tbody tr th {\n",
       "        vertical-align: top;\n",
       "    }\n",
       "\n",
       "    .dataframe thead th {\n",
       "        text-align: right;\n",
       "    }\n",
       "</style>\n",
       "<table border=\"1\" class=\"dataframe\">\n",
       "  <thead>\n",
       "    <tr style=\"text-align: right;\">\n",
       "      <th></th>\n",
       "      <th>Date</th>\n",
       "      <th>Open</th>\n",
       "      <th>High</th>\n",
       "      <th>Low</th>\n",
       "      <th>Close</th>\n",
       "      <th>Adj Close</th>\n",
       "      <th>Volume</th>\n",
       "      <th>ticker</th>\n",
       "    </tr>\n",
       "  </thead>\n",
       "  <tbody>\n",
       "    <tr>\n",
       "      <th>0</th>\n",
       "      <td>2020-11-30</td>\n",
       "      <td>88.718498</td>\n",
       "      <td>92.360001</td>\n",
       "      <td>88.468498</td>\n",
       "      <td>91.399498</td>\n",
       "      <td>91.399498</td>\n",
       "      <td>111288000</td>\n",
       "      <td>GOOG</td>\n",
       "    </tr>\n",
       "    <tr>\n",
       "      <th>1</th>\n",
       "      <td>2020-12-07</td>\n",
       "      <td>90.949997</td>\n",
       "      <td>91.713501</td>\n",
       "      <td>87.015999</td>\n",
       "      <td>89.088501</td>\n",
       "      <td>89.088501</td>\n",
       "      <td>130166000</td>\n",
       "      <td>GOOG</td>\n",
       "    </tr>\n",
       "    <tr>\n",
       "      <th>2</th>\n",
       "      <td>2020-12-14</td>\n",
       "      <td>88.750000</td>\n",
       "      <td>89.869499</td>\n",
       "      <td>86.011002</td>\n",
       "      <td>86.550499</td>\n",
       "      <td>86.550499</td>\n",
       "      <td>204742000</td>\n",
       "      <td>GOOG</td>\n",
       "    </tr>\n",
       "    <tr>\n",
       "      <th>3</th>\n",
       "      <td>2020-12-21</td>\n",
       "      <td>85.675499</td>\n",
       "      <td>87.399498</td>\n",
       "      <td>84.949997</td>\n",
       "      <td>86.942497</td>\n",
       "      <td>86.942497</td>\n",
       "      <td>82914000</td>\n",
       "      <td>GOOG</td>\n",
       "    </tr>\n",
       "    <tr>\n",
       "      <th>4</th>\n",
       "      <td>2020-12-28</td>\n",
       "      <td>87.581749</td>\n",
       "      <td>89.622002</td>\n",
       "      <td>86.279999</td>\n",
       "      <td>87.594002</td>\n",
       "      <td>87.594002</td>\n",
       "      <td>100208000</td>\n",
       "      <td>GOOG</td>\n",
       "    </tr>\n",
       "    <tr>\n",
       "      <th>...</th>\n",
       "      <td>...</td>\n",
       "      <td>...</td>\n",
       "      <td>...</td>\n",
       "      <td>...</td>\n",
       "      <td>...</td>\n",
       "      <td>...</td>\n",
       "      <td>...</td>\n",
       "      <td>...</td>\n",
       "    </tr>\n",
       "    <tr>\n",
       "      <th>114</th>\n",
       "      <td>2023-02-06</td>\n",
       "      <td>102.684998</td>\n",
       "      <td>108.669998</td>\n",
       "      <td>93.860001</td>\n",
       "      <td>94.860001</td>\n",
       "      <td>94.860001</td>\n",
       "      <td>279926300</td>\n",
       "      <td>GOOG</td>\n",
       "    </tr>\n",
       "    <tr>\n",
       "      <th>115</th>\n",
       "      <td>2023-02-13</td>\n",
       "      <td>95.010002</td>\n",
       "      <td>97.879997</td>\n",
       "      <td>92.650002</td>\n",
       "      <td>94.589996</td>\n",
       "      <td>94.589996</td>\n",
       "      <td>189375800</td>\n",
       "      <td>GOOG</td>\n",
       "    </tr>\n",
       "    <tr>\n",
       "      <th>116</th>\n",
       "      <td>2023-02-20</td>\n",
       "      <td>93.239998</td>\n",
       "      <td>93.415001</td>\n",
       "      <td>88.860001</td>\n",
       "      <td>89.349998</td>\n",
       "      <td>89.349998</td>\n",
       "      <td>121958600</td>\n",
       "      <td>GOOG</td>\n",
       "    </tr>\n",
       "    <tr>\n",
       "      <th>117</th>\n",
       "      <td>2023-02-27</td>\n",
       "      <td>90.089996</td>\n",
       "      <td>91.449997</td>\n",
       "      <td>89.519997</td>\n",
       "      <td>90.300003</td>\n",
       "      <td>90.300003</td>\n",
       "      <td>53240000</td>\n",
       "      <td>GOOG</td>\n",
       "    </tr>\n",
       "    <tr>\n",
       "      <th>118</th>\n",
       "      <td>2023-02-28</td>\n",
       "      <td>89.540001</td>\n",
       "      <td>91.445000</td>\n",
       "      <td>89.540001</td>\n",
       "      <td>90.300003</td>\n",
       "      <td>90.300003</td>\n",
       "      <td>30546912</td>\n",
       "      <td>GOOG</td>\n",
       "    </tr>\n",
       "  </tbody>\n",
       "</table>\n",
       "<p>119 rows × 8 columns</p>\n",
       "</div>"
      ],
      "text/plain": [
       "           Date        Open        High        Low      Close  Adj Close  \\\n",
       "0    2020-11-30   88.718498   92.360001  88.468498  91.399498  91.399498   \n",
       "1    2020-12-07   90.949997   91.713501  87.015999  89.088501  89.088501   \n",
       "2    2020-12-14   88.750000   89.869499  86.011002  86.550499  86.550499   \n",
       "3    2020-12-21   85.675499   87.399498  84.949997  86.942497  86.942497   \n",
       "4    2020-12-28   87.581749   89.622002  86.279999  87.594002  87.594002   \n",
       "..          ...         ...         ...        ...        ...        ...   \n",
       "114  2023-02-06  102.684998  108.669998  93.860001  94.860001  94.860001   \n",
       "115  2023-02-13   95.010002   97.879997  92.650002  94.589996  94.589996   \n",
       "116  2023-02-20   93.239998   93.415001  88.860001  89.349998  89.349998   \n",
       "117  2023-02-27   90.089996   91.449997  89.519997  90.300003  90.300003   \n",
       "118  2023-02-28   89.540001   91.445000  89.540001  90.300003  90.300003   \n",
       "\n",
       "        Volume ticker  \n",
       "0    111288000   GOOG  \n",
       "1    130166000   GOOG  \n",
       "2    204742000   GOOG  \n",
       "3     82914000   GOOG  \n",
       "4    100208000   GOOG  \n",
       "..         ...    ...  \n",
       "114  279926300   GOOG  \n",
       "115  189375800   GOOG  \n",
       "116  121958600   GOOG  \n",
       "117   53240000   GOOG  \n",
       "118   30546912   GOOG  \n",
       "\n",
       "[119 rows x 8 columns]"
      ]
     },
     "execution_count": 40,
     "metadata": {},
     "output_type": "execute_result"
    }
   ],
   "source": []
  },
  {
   "cell_type": "code",
   "execution_count": null,
   "metadata": {},
   "outputs": [],
   "source": []
  }
 ],
 "metadata": {
  "kernelspec": {
   "display_name": "Python 3",
   "language": "python",
   "name": "python3"
  },
  "language_info": {
   "codemirror_mode": {
    "name": "ipython",
    "version": 3
   },
   "file_extension": ".py",
   "mimetype": "text/x-python",
   "name": "python",
   "nbconvert_exporter": "python",
   "pygments_lexer": "ipython3",
   "version": "3.10.2"
  },
  "orig_nbformat": 4,
  "vscode": {
   "interpreter": {
    "hash": "aa7788e653e621bab3db3983f42b9901336ae1d903a2551e475cc465bb498941"
   }
  }
 },
 "nbformat": 4,
 "nbformat_minor": 2
}
