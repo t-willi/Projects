{
 "cells": [
  {
   "cell_type": "code",
   "execution_count": 113,
   "metadata": {},
   "outputs": [],
   "source": [
    "import time\n",
    "import datetime\n",
    "from datetime import datetime\n",
    "import pandas as pd\n"
   ]
  },
  {
   "cell_type": "code",
   "execution_count": 121,
   "metadata": {},
   "outputs": [],
   "source": [
    "#download data from yahoo and make into dataframe\n",
    "ticker_list=[\"AMZN\",\"GOOG\"]\n",
    "def pull_yahoo(ticker_list,interval=\"1d\"):\n",
    "    start = int(time.mktime(datetime(2020,12,1,23,59).timetuple()))\n",
    "    now=int(time.time())\n",
    "    interval = interval\n",
    "    data=[]\n",
    "    for ticker in ticker_list:\n",
    "        quary_string= f\"https://query1.finance.yahoo.com/v7/finance/download/{ticker}?period1={start}&period2={now}&interval={interval}&events=history&includeAdjustedClose=true\"\n",
    "        temp_table=pd.read_csv(quary_string)\n",
    "        temp_table[\"ticker\"]=ticker\n",
    "        data.append(temp_table)\n",
    "    table=pd.concat(data,axis=0,ignore_index=True)\n",
    "    return table\n",
    "table = pull_yahoo(ticker_list)\n"
   ]
  },
  {
   "cell_type": "code",
   "execution_count": 78,
   "metadata": {},
   "outputs": [],
   "source": [
    "#connect with database \n",
    "import mysql.connector\n",
    "con = mysql.connector.connect(\n",
    "    host = \"localhost\",\n",
    "    user=\"root\",\n",
    "    passwd=\"tobias\",\n",
    "    database=\"sql_inventory\"\n",
    ")\n",
    "#create Database\n",
    "mycursor = con.cursor()\n",
    "mycursor.execute(\"CREATE DATABASE stocks\")"
   ]
  },
  {
   "cell_type": "code",
   "execution_count": 95,
   "metadata": {},
   "outputs": [
    {
     "data": {
      "text/plain": [
       "566"
      ]
     },
     "execution_count": 95,
     "metadata": {},
     "output_type": "execute_result"
    }
   ],
   "source": [
    "#create engine and export dataframe to mysql\n",
    "from sqlalchemy import create_engine\n",
    "engine = create_engine(\"mysql+pymysql://\" + \"root\" + \":\" + \"tobias\" + \"@\" + \"localhost\" + \"/\" + \"stocks\")\n",
    "table.to_sql('stock_tables', con = engine, if_exists = 'append',index = False, chunksize = 1000)\n",
    "\n"
   ]
  },
  {
   "cell_type": "code",
   "execution_count": null,
   "metadata": {},
   "outputs": [],
   "source": []
  }
 ],
 "metadata": {
  "kernelspec": {
   "display_name": "Python 3",
   "language": "python",
   "name": "python3"
  },
  "language_info": {
   "codemirror_mode": {
    "name": "ipython",
    "version": 3
   },
   "file_extension": ".py",
   "mimetype": "text/x-python",
   "name": "python",
   "nbconvert_exporter": "python",
   "pygments_lexer": "ipython3",
   "version": "3.10.2"
  },
  "orig_nbformat": 4,
  "vscode": {
   "interpreter": {
    "hash": "aa7788e653e621bab3db3983f42b9901336ae1d903a2551e475cc465bb498941"
   }
  }
 },
 "nbformat": 4,
 "nbformat_minor": 2
}
